{
 "cells": [
  {
   "cell_type": "code",
   "execution_count": 4,
   "metadata": {
    "collapsed": false
   },
   "outputs": [],
   "source": [
    "import numpy as np\n",
    "from numpy.random import randn"
   ]
  },
  {
   "cell_type": "code",
   "execution_count": 7,
   "metadata": {
    "collapsed": false
   },
   "outputs": [
    {
     "data": {
      "text/plain": [
       "-0.9046314154781142"
      ]
     },
     "execution_count": 7,
     "metadata": {},
     "output_type": "execute_result"
    }
   ],
   "source": [
    "randn()"
   ]
  },
  {
   "cell_type": "code",
   "execution_count": 28,
   "metadata": {
    "collapsed": false
   },
   "outputs": [
    {
     "name": "stdout",
     "output_type": "stream",
     "text": [
      "-1.5301164467897275\n",
      "None\n"
     ]
    }
   ],
   "source": [
    "#--- -2 --- -1 --- 0 --- 1 --- 2\n",
    "x= randn()\n",
    "answer = None\n",
    "if x>1:\n",
    "    answer = \"Greater than 1\"\n",
    "print(x)\n",
    "print(answer)"
   ]
  },
  {
   "cell_type": "code",
   "execution_count": 48,
   "metadata": {
    "collapsed": false
   },
   "outputs": [
    {
     "name": "stdout",
     "output_type": "stream",
     "text": [
      "1.3510587813167447\n",
      "Greater than 1\n"
     ]
    }
   ],
   "source": [
    "#--- -2 --- -1 --- 0 --- 1 --- 2\n",
    "x= randn()\n",
    "answer = None\n",
    "if x>1:\n",
    "    answer = \"Greater than 1\"\n",
    "    \n",
    "else: answer = \"Less than 1\"\n",
    "print(x)\n",
    "print(answer)"
   ]
  },
  {
   "cell_type": "code",
   "execution_count": 65,
   "metadata": {
    "collapsed": false
   },
   "outputs": [
    {
     "name": "stdout",
     "output_type": "stream",
     "text": [
      "-0.5350545891645966\n",
      "Between -1 and 1\n"
     ]
    }
   ],
   "source": [
    "#--- -2 --- -1 --- 0 --- 1 --- 2\n",
    "# Nested statements\n",
    "x= randn()\n",
    "answer = None\n",
    "if x>1:\n",
    "    answer = \"Greater than 1\"   \n",
    "else: \n",
    "    if x>-1: \n",
    "        answer = \"Between -1 and 1\"\n",
    "    else:\n",
    "        answer = \"Less than -1\"\n",
    "print(x)\n",
    "print(answer)"
   ]
  },
  {
   "cell_type": "code",
   "execution_count": 77,
   "metadata": {
    "collapsed": false
   },
   "outputs": [
    {
     "name": "stdout",
     "output_type": "stream",
     "text": [
      "-0.2862932948327572\n",
      "Between -1 and 1\n"
     ]
    }
   ],
   "source": [
    "#--- -2 --- -1 --- 0 --- 1 --- 2\n",
    "# Chained statements\n",
    "x= randn()\n",
    "answer = None\n",
    "if x>1:\n",
    "    answer = \"Greater than 1\"   \n",
    "elif abs(x)<1: \n",
    "    answer = \"Between -1 and 1\"\n",
    "else:\n",
    "    answer = \"Less than -1\"\n",
    "print(x)\n",
    "print(answer)"
   ]
  },
  {
   "cell_type": "code",
   "execution_count": null,
   "metadata": {
    "collapsed": true
   },
   "outputs": [],
   "source": []
  }
 ],
 "metadata": {
  "anaconda-cloud": {},
  "kernelspec": {
   "display_name": "Python [conda root]",
   "language": "python",
   "name": "conda-root-py"
  },
  "language_info": {
   "codemirror_mode": {
    "name": "ipython",
    "version": 3
   },
   "file_extension": ".py",
   "mimetype": "text/x-python",
   "name": "python",
   "nbconvert_exporter": "python",
   "pygments_lexer": "ipython3",
   "version": "3.5.2"
  }
 },
 "nbformat": 4,
 "nbformat_minor": 1
}
