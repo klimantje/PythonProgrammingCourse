{
 "cells": [
  {
   "cell_type": "code",
   "execution_count": 22,
   "metadata": {
    "collapsed": false
   },
   "outputs": [
    {
     "name": "stdout",
     "output_type": "stream",
     "text": [
      "Hello\n",
      "-1.1354467854958563\n",
      "Less than -1\n"
     ]
    }
   ],
   "source": [
    "import numpy as np\n",
    "from numpy.random import randn\n",
    "#--- -2 --- -1 --- 0 --- 1 --- 2\n",
    "# Hello is indented so not always printed\n",
    "x= randn()\n",
    "answer = None\n",
    "if x>1:\n",
    "    answer = \"Greater than 1\"   \n",
    "elif abs(x)<1: \n",
    "    answer = \"Between -1 and 1\"\n",
    "else:\n",
    "    answer = \"Less than -1\"\n",
    "    print(\"Hello\")\n",
    "print(x)\n",
    "print(answer)"
   ]
  },
  {
   "cell_type": "code",
   "execution_count": 23,
   "metadata": {
    "collapsed": false
   },
   "outputs": [
    {
     "name": "stdout",
     "output_type": "stream",
     "text": [
      "Hello\n",
      "-0.09030238224313646\n",
      "Between -1 and 1\n"
     ]
    }
   ],
   "source": [
    "#--- -2 --- -1 --- 0 --- 1 --- 2\n",
    "# Hello is NOT indented so always printed\n",
    "x= randn()\n",
    "answer = None\n",
    "if x>1:\n",
    "    answer = \"Greater than 1\"   \n",
    "elif abs(x)<1: \n",
    "    answer = \"Between -1 and 1\"\n",
    "else:\n",
    "    answer = \"Less than -1\"\n",
    "print(\"Hello\")\n",
    "print(x)\n",
    "print(answer)"
   ]
  }
 ],
 "metadata": {
  "kernelspec": {
   "display_name": "Python [conda root]",
   "language": "python",
   "name": "conda-root-py"
  },
  "language_info": {
   "codemirror_mode": {
    "name": "ipython",
    "version": 3
   },
   "file_extension": ".py",
   "mimetype": "text/x-python",
   "name": "python",
   "nbconvert_exporter": "python",
   "pygments_lexer": "ipython3",
   "version": "3.5.2"
  }
 },
 "nbformat": 4,
 "nbformat_minor": 1
}
